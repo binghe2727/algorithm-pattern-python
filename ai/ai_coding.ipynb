{
 "cells": [
  {
   "cell_type": "markdown",
   "metadata": {},
   "source": [
    "# 写K means, 写knn，implement一个conv 2d，写code算precision recall\n",
    "\n",
    "# AS面遇到手写transformer的attention\n",
    "\n",
    "# 难的话看paper的伪代码写一段python代码来实现，简单的让你默写一个linear regression和knn什么的，我地里有看到类似的，你可以搜一搜\n",
    "\n",
    "# 如果你是偏deep learning可能再加一个implement bacthnorn的class，稍微准备一下就好了，leetcode才是大头\n",
    "\n",
    "# I am op. 考的不是常规lc，算是矩阵操作，具体记不清了因为逻辑真的不难，难点在于代码不好写+corner case 恶心。我没遇到手撕k means 这种代码量很大的题（train，inference，tester code，量不小了）。总的来说，可以理解为lc medium，但是corner case 很麻烦。准备建议：把楼上总结的常见ML算法用基础library实现一遍，确实能很锻炼写常规非LC代码的感觉，然后再多参加LC竞赛，锻炼应对压力时候的综合素质。然后，与人为善，积累人品\n",
    "\n",
    "# n次ml coding都是knn(或者distance相关)，除了coding，可以考各种延展，比如怎么算distance(coding和knowledge角度)，怎么取topk。从large scale角度，怎么优化，怎么快速(大概)找到topk(我只知道faiss); 怎么做majority vote等。\n",
    "\n",
    "# 被考到实现目标检测iou, 不过lc里有类似题，也被考过"
   ]
  },
  {
   "cell_type": "code",
   "execution_count": null,
   "metadata": {},
   "outputs": [],
   "source": [
    "# 1) knn implementation\n",
    "# the reference website:\n",
    "# https://towardsdatascience.com/k-nearest-neighbors-classification-from-scratch-with-numpy-cb222ecfeac1\n",
    "\n"
   ]
  },
  {
   "cell_type": "code",
   "execution_count": null,
   "metadata": {},
   "outputs": [],
   "source": []
  },
  {
   "cell_type": "code",
   "execution_count": null,
   "metadata": {},
   "outputs": [],
   "source": []
  },
  {
   "cell_type": "code",
   "execution_count": null,
   "metadata": {},
   "outputs": [],
   "source": []
  },
  {
   "cell_type": "markdown",
   "metadata": {},
   "source": []
  }
 ],
 "metadata": {
  "kernelspec": {
   "display_name": "Python 3",
   "language": "python",
   "name": "python3"
  },
  "language_info": {
   "name": "python",
   "version": "3.11.1"
  },
  "orig_nbformat": 4,
  "vscode": {
   "interpreter": {
    "hash": "1a1af0ee75eeea9e2e1ee996c87e7a2b11a0bebd85af04bb136d915cefc0abce"
   }
  }
 },
 "nbformat": 4,
 "nbformat_minor": 2
}
