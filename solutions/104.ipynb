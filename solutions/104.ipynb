{
 "cells": [
  {
   "cell_type": "code",
   "execution_count": 5,
   "metadata": {},
   "outputs": [],
   "source": [
    "# my thinking thought:\n",
    "# at first, I think DFS -> not good, may neglect some paths\n",
    "# then, BFS may be better: -> write the pseudo code of BFS (we will use the queue)\n",
    "# in our case, to get the level information, len(queue)>0 alone is not sufficient\n",
    "# then, we keep the row length information\n",
    "\n",
    "# after checking the referred code, we can optimize the code\n",
    "# to use row_length = len(queue) in our code since\n",
    "# it is the same as the row_length -> how to optimize the code properly\n",
    "# pay attention to the nature of the variable"
   ]
  },
  {
   "cell_type": "code",
   "execution_count": 3,
   "metadata": {},
   "outputs": [],
   "source": [
    "from typing import Optional"
   ]
  },
  {
   "cell_type": "code",
   "execution_count": 4,
   "metadata": {},
   "outputs": [],
   "source": [
    "# Definition for a binary tree node.\n",
    "class TreeNode:\n",
    "    def __init__(self, val=0, left=None, right=None):\n",
    "        self.val = val\n",
    "        self.left = left\n",
    "        self.right = right\n",
    "class Solution:\n",
    "    def maxDepth(self, root: Optional[TreeNode]) -> int:\n",
    "\n",
    "        # bfs search\n",
    "        from collections import deque\n",
    "        queue = deque()\n",
    "        \n",
    "        if root is None:\n",
    "            return 0\n",
    "        else:\n",
    "            queue.append(root)\n",
    "            level = 0\n",
    "            row_length = 1\n",
    "            while len(queue) > 0:\n",
    "                level += 1\n",
    "                next_row_length = 0\n",
    "                # the row_length information as a indicator of the traversal\n",
    "                for _ in range(row_length):\n",
    "                    node = queue.popleft()\n",
    "\n",
    "                    if node.left is not None:\n",
    "                        queue.append(node.left)\n",
    "                        next_row_length += 1\n",
    "                    if node.right is not None:\n",
    "                        queue.append(node.right)\n",
    "                        next_row_length += 1\n",
    "                row_length = next_row_length\n",
    "        return level"
   ]
  },
  {
   "cell_type": "code",
   "execution_count": 1,
   "metadata": {},
   "outputs": [],
   "source": [
    "# another solution from the note\n",
    "# we can use divide and conquer: a very beautiful mindset\n",
    "# guidance: rethink the problem from a higher level: \n",
    "# # we divide the problem into two parts\n",
    "# , then, we save each part, and find it is feasible in a pattern"
   ]
  },
  {
   "cell_type": "code",
   "execution_count": null,
   "metadata": {},
   "outputs": [],
   "source": [
    "class Solution:\n",
    "    def maxDepth(self, root: TreeNode) -> int:\n",
    "        \n",
    "        if root is None:\n",
    "            return 0\n",
    "        \n",
    "        return 1 + max(self.maxDepth(root.left), self.maxDepth(root.right))"
   ]
  }
 ],
 "metadata": {
  "kernelspec": {
   "display_name": "lc",
   "language": "python",
   "name": "python3"
  },
  "language_info": {
   "codemirror_mode": {
    "name": "ipython",
    "version": 3
   },
   "file_extension": ".py",
   "mimetype": "text/x-python",
   "name": "python",
   "nbconvert_exporter": "python",
   "pygments_lexer": "ipython3",
   "version": "3.9.16"
  },
  "orig_nbformat": 4,
  "vscode": {
   "interpreter": {
    "hash": "40f890ef67b726604f2fb72e1fb3480e9e9c2a7a009421d7dfa44ec2b0cc787c"
   }
  }
 },
 "nbformat": 4,
 "nbformat_minor": 2
}
