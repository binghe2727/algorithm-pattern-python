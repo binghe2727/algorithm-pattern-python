{
 "cells": [
  {
   "cell_type": "code",
   "execution_count": null,
   "metadata": {},
   "outputs": [],
   "source": []
  },
  {
   "cell_type": "code",
   "execution_count": 8,
   "metadata": {},
   "outputs": [],
   "source": [
    "def solution(paths):\n",
    "\n",
    "    def divide_path(paths):\n",
    "        \n",
    "        path_all = paths.split('/')\n",
    "        \n",
    "        # we use stack\n",
    "        res = [\"/\"]\n",
    "        for command in path_all:\n",
    "            if command == \".\":\n",
    "                pass\n",
    "            elif command == \"/\":\n",
    "                res = [\"/\"]\n",
    "            elif command == \"..\":\n",
    "                if len(res) == 0:\n",
    "                    res = [\"/\"]\n",
    "                    continue\n",
    "                res.pop()\n",
    "                if len(res) == 0:\n",
    "                    res = [\"/\"]\n",
    "                    continue\n",
    "            else:\n",
    "                # error one from subdirectory to command\n",
    "                # error one: when you copy some codes, double-check the variables:\n",
    "                res.append(command)\n",
    "        \n",
    "        if len(res) == 1:\n",
    "            return \"/\"\n",
    "        else:\n",
    "            return \"/\"+\"/\".join(res[1:])\n",
    "\n",
    "        # error 2: double return\n",
    "        # return xx\n",
    "            \n",
    "    \n",
    "    all_new_paths = []\n",
    "    lowest_length = float('inf')\n",
    "    for path in paths:\n",
    "        full_path = divide_path(path)\n",
    "        print(full_path)\n",
    "\n",
    "        if len(full_path) < lowest_length:\n",
    "            lowest_length = len(full_path)\n",
    "        \n",
    "        all_new_paths.append(full_path)\n",
    "        \n",
    "    for i in range(1, lowest_length):\n",
    "        target_letter = all_new_paths[0][-i]\n",
    "        \n",
    "        if_match = True\n",
    "        for new_path in all_new_paths:\n",
    "            if new_path[-i] == target_letter:\n",
    "                continue\n",
    "            else:\n",
    "                if_match = False\n",
    "                break\n",
    "        \n",
    "        # error 3: continus check, be sure to set the match requriement for double check\n",
    "        if if_match == True:\n",
    "            continue\n",
    "        else:\n",
    "            break\n",
    "        \n",
    "\n",
    "    return all_new_paths[0][-i:]\n",
    "        \n",
    "        \n",
    "    \n",
    "        "
   ]
  },
  {
   "cell_type": "code",
   "execution_count": 7,
   "metadata": {},
   "outputs": [
    {
     "name": "stdout",
     "output_type": "stream",
     "text": [
      "//a/b/test.txt\n",
      "//a/b/test.txt\n",
      "//a/b/test.txt\n"
     ]
    },
    {
     "data": {
      "text/plain": [
       "'/a/b/test.txt'"
      ]
     },
     "execution_count": 7,
     "metadata": {},
     "output_type": "execute_result"
    }
   ],
   "source": [
    "solution(paths=['/a/b/test.txt', '/a/b/c/../test.txt', '/a/b/c/../d/../test.txt'])"
   ]
  },
  {
   "cell_type": "code",
   "execution_count": null,
   "metadata": {},
   "outputs": [],
   "source": []
  }
 ],
 "metadata": {
  "kernelspec": {
   "display_name": "lc",
   "language": "python",
   "name": "python3"
  },
  "language_info": {
   "codemirror_mode": {
    "name": "ipython",
    "version": 3
   },
   "file_extension": ".py",
   "mimetype": "text/x-python",
   "name": "python",
   "nbconvert_exporter": "python",
   "pygments_lexer": "ipython3",
   "version": "3.9.16"
  },
  "orig_nbformat": 4
 },
 "nbformat": 4,
 "nbformat_minor": 2
}
