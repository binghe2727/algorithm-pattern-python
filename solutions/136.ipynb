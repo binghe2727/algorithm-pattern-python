{
 "cells": [
  {
   "cell_type": "code",
   "execution_count": 3,
   "metadata": {},
   "outputs": [],
   "source": [
    "from typing import List\n",
    "\n",
    "# solution 1) \n",
    "# 1) get a set -> with the count, we use Counter\n",
    "# 2) traverse the counter"
   ]
  },
  {
   "cell_type": "code",
   "execution_count": null,
   "metadata": {},
   "outputs": [],
   "source": [
    "class Solution:\n",
    "    def singleNumber(self, nums: List[int]) -> int:\n",
    "        from collections import Counter\n",
    "        res = Counter(nums)\n",
    "        for num in res.keys():\n",
    "            if res[num] == 1:\n",
    "                return num"
   ]
  },
  {
   "cell_type": "code",
   "execution_count": 1,
   "metadata": {},
   "outputs": [],
   "source": [
    "# solution 2)\n",
    "# 1) we utlize the property of a = a^b^b\n",
    "# 2) think further, when you get the problem, think further:\n",
    "#       any mathematical properties or laws can be used here"
   ]
  },
  {
   "cell_type": "code",
   "execution_count": 4,
   "metadata": {},
   "outputs": [],
   "source": [
    "class Solution:\n",
    "    def singleNumber(self, nums: List[int]) -> int:\n",
    "        # bitwise operation and understanding\n",
    "        # very beautiful and think more from it!-- very elegent.\n",
    "        out = 0\n",
    "        for num in nums:\n",
    "            out ^= num\n",
    "        return out"
   ]
  },
  {
   "cell_type": "code",
   "execution_count": null,
   "metadata": {},
   "outputs": [],
   "source": []
  }
 ],
 "metadata": {
  "kernelspec": {
   "display_name": "lc",
   "language": "python",
   "name": "python3"
  },
  "language_info": {
   "codemirror_mode": {
    "name": "ipython",
    "version": 3
   },
   "file_extension": ".py",
   "mimetype": "text/x-python",
   "name": "python",
   "nbconvert_exporter": "python",
   "pygments_lexer": "ipython3",
   "version": "3.9.16"
  },
  "orig_nbformat": 4,
  "vscode": {
   "interpreter": {
    "hash": "40f890ef67b726604f2fb72e1fb3480e9e9c2a7a009421d7dfa44ec2b0cc787c"
   }
  }
 },
 "nbformat": 4,
 "nbformat_minor": 2
}
