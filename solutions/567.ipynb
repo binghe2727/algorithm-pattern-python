{
 "cells": [
  {
   "cell_type": "code",
   "execution_count": null,
   "metadata": {},
   "outputs": [
    {
     "ename": "",
     "evalue": "",
     "output_type": "error",
     "traceback": [
      "\u001b[1;31mRunning cells with '/usr/local/bin/python3.11' requires the ipykernel package.\n",
      "\u001b[1;31mRun the following command to install 'ipykernel' into the Python environment. \n",
      "\u001b[1;31mCommand: '/usr/local/bin/python3.11 -m pip install ipykernel -U --user --force-reinstall'"
     ]
    }
   ],
   "source": [
    "# 1) the solution: i) get the permutation (by existence or a full permutation); ii) move by window\n",
    "# 2) index or slicing by : vs parameter assignment by ,\n",
    "# 3) think further: i) I first iterate over a list; i) then, we use Counter to optimize the query\n",
    "#    from the corner case: helllo - we have two l!"
   ]
  },
  {
   "cell_type": "code",
   "execution_count": null,
   "metadata": {},
   "outputs": [],
   "source": []
  },
  {
   "cell_type": "code",
   "execution_count": null,
   "metadata": {},
   "outputs": [],
   "source": [
    "class Solution:\n",
    "    def checkInclusion(self, s1: str, s2: str) -> bool:\n",
    "        \n",
    "        n = len(s1)\n",
    "        m = len(s2)\n",
    "        \n",
    "        from collections import Counter\n",
    "\n",
    "        s1_counted = Counter(s1)\n",
    "        \n",
    "        for i in range(0, m-n+1):\n",
    "            if_in_window = True\n",
    "            start_index = i\n",
    "            end_index = i + n\n",
    "            # error 1: for slicing, we use : rather than ,\n",
    "            window = s2[start_index:end_index]\n",
    "            window_counted = Counter(window)\n",
    "\n",
    "            for letter in s1_counted.keys():\n",
    "                if letter in window_counted and s1_counted[letter] == window_counted[letter]:\n",
    "                    continue\n",
    "                else:\n",
    "                    if_in_window = False\n",
    "                    break\n",
    "\n",
    "            # the previous wrong solution\n",
    "            # for letter in s1:\n",
    "            #     # error 2: hello example, we have two l\n",
    "            #     # but, we use window.remove(letter) -> it is string rather than list\n",
    "            #     # transfer to dict for quick match\n",
    "            #     if letter in window:\n",
    "            #         window.remove(letter)\n",
    "            #         continue\n",
    "            #     else:\n",
    "            #         if_in_window = False\n",
    "            #         break\n",
    "            if if_in_window:\n",
    "                return True\n",
    "        return False\n",
    "            "
   ]
  },
  {
   "cell_type": "code",
   "execution_count": null,
   "metadata": {},
   "outputs": [],
   "source": [
    "# Feb 27 2023\n",
    "# solution 2\n",
    "# 1) think deeper and leanr the sliding window technique\n",
    "#       knowledge point #1: remember to update the window_start when necessary! \n",
    "#           from the naming criteria, you will update it in the end.\n",
    "#       knowledge point #2: dict or other similar steps are included in each moving\n",
    "#       knowledge point #3: learn the techinique\n",
    "# 2) find the essence of mathematics: for permutation matching, we actually look at\n",
    "# the counter distribution using a dictionary! Very beautiful idea! Neat idea\n",
    "# This mathematical deduction is like the idea development in research! learn from it!\n",
    "# 3) when solving problems, do not be limited by the so-called template. If you do not\n",
    "# know it. Think further and find mathematical properties."
   ]
  },
  {
   "cell_type": "code",
   "execution_count": null,
   "metadata": {},
   "outputs": [],
   "source": [
    "class Solution:\n",
    "    def checkInclusion(self, s1: str, s2: str) -> bool:\n",
    "        \n",
    "        s1_dict, s2_dict = {}, {}\n",
    "        \n",
    "        # define the target window\n",
    "        for letter in s1:\n",
    "            if letter in s1_dict:\n",
    "                s1_dict[letter] += 1\n",
    "            else:\n",
    "                s1_dict[letter] = 1\n",
    "        \n",
    "        # sliding the window\n",
    "        window_start = 0\n",
    "        for window_end in range(len(s2)):\n",
    "            \n",
    "            if s2[window_end] in s2_dict:\n",
    "                s2_dict[s2[window_end]] += 1\n",
    "            else:\n",
    "                s2_dict[s2[window_end]] = 1\n",
    "\n",
    "            \n",
    "            if window_end - window_start + 1 > len(s1):\n",
    "                s2_dict[s2[window_start]] -= 1\n",
    "                if s2_dict[s2[window_start]] == 0:\n",
    "                    del s2_dict[s2[window_start]]\n",
    "                \n",
    "                # error 1: do not forget to update the index [COSTANT] presentation\n",
    "                window_start += 1\n",
    "\n",
    "            if s1_dict == s2_dict:\n",
    "                return True\n",
    "        \n",
    "        return False"
   ]
  }
 ],
 "metadata": {
  "kernelspec": {
   "display_name": "Python 3",
   "language": "python",
   "name": "python3"
  },
  "language_info": {
   "name": "python",
   "version": "3.11.1"
  },
  "orig_nbformat": 4,
  "vscode": {
   "interpreter": {
    "hash": "1a1af0ee75eeea9e2e1ee996c87e7a2b11a0bebd85af04bb136d915cefc0abce"
   }
  }
 },
 "nbformat": 4,
 "nbformat_minor": 2
}
