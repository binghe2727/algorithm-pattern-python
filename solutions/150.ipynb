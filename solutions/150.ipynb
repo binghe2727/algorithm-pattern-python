{
 "cells": [
  {
   "cell_type": "code",
   "execution_count": null,
   "metadata": {},
   "outputs": [],
   "source": [
    "# Feb 19 2023:\n",
    "# 1) from the string operators to lambda: a very beautiful design: learn from it\n",
    "# we should not only solve the problem but also provide a decent solution with clean code style\n",
    "# this dictionary + lambda design provided by ChatGPT teaches me a lot!\n",
    "# 2) the error from the string input to integer input: be careful of the questions! \n",
    "# 3) corner case of ['18']: what if we only have one element in the list; \n",
    "# after addressing the problem, be sure to think about the corner case!\n",
    "# 4) knowledge points: the stack data structure!"
   ]
  },
  {
   "cell_type": "code",
   "execution_count": 4,
   "metadata": {},
   "outputs": [],
   "source": [
    "from typing import List"
   ]
  },
  {
   "cell_type": "code",
   "execution_count": 10,
   "metadata": {},
   "outputs": [],
   "source": [
    "class Solution:\n",
    "    def evalRPN(self, tokens: List[str]) -> int:\n",
    "\n",
    "        operators = {\n",
    "            \"+\": lambda x, y: x + y,\n",
    "            \"-\": lambda x, y: x - y,\n",
    "            \"*\": lambda x, y: x * y,\n",
    "            \"/\": lambda x, y: x / y,\n",
    "            # \"%\": lambda x, y: x % y,\n",
    "        }\n",
    "\n",
    "        stack = []\n",
    "        for token in tokens:\n",
    "            if token not in operators:\n",
    "                stack.append(int(token))\n",
    "            else:\n",
    "                number_2 = stack.pop()\n",
    "                number_1 = stack.pop()\n",
    "                op = operators[token]\n",
    "                result = int(op(number_1, number_2))\n",
    "                stack.append(result)\n",
    "        return stack[-1]"
   ]
  },
  {
   "cell_type": "code",
   "execution_count": 11,
   "metadata": {},
   "outputs": [
    {
     "data": {
      "text/plain": [
       "9"
      ]
     },
     "execution_count": 11,
     "metadata": {},
     "output_type": "execute_result"
    }
   ],
   "source": [
    "sol = Solution()\n",
    "# corner case of: ['18']\n",
    "sol.evalRPN([\"2\",\"1\",\"+\",\"3\",\"*\"])"
   ]
  },
  {
   "cell_type": "code",
   "execution_count": null,
   "metadata": {},
   "outputs": [],
   "source": []
  }
 ],
 "metadata": {
  "kernelspec": {
   "display_name": "lc",
   "language": "python",
   "name": "python3"
  },
  "language_info": {
   "codemirror_mode": {
    "name": "ipython",
    "version": 3
   },
   "file_extension": ".py",
   "mimetype": "text/x-python",
   "name": "python",
   "nbconvert_exporter": "python",
   "pygments_lexer": "ipython3",
   "version": "3.9.16"
  },
  "orig_nbformat": 4,
  "vscode": {
   "interpreter": {
    "hash": "40f890ef67b726604f2fb72e1fb3480e9e9c2a7a009421d7dfa44ec2b0cc787c"
   }
  }
 },
 "nbformat": 4,
 "nbformat_minor": 2
}
