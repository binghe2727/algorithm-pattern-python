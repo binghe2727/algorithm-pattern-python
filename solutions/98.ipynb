{
 "cells": [
  {
   "cell_type": "code",
   "execution_count": null,
   "metadata": {},
   "outputs": [],
   "source": [
    "# failed solution 1:\n",
    "# problem understanding: greater than or smaller than: not included\n",
    "# but, for this complex cases: i failed\n",
    "# [5,4,6,null,null,3,7]\n",
    "# how to resolve this complex case: a) dfs or bfs traversal; 2) keep the min and max value of the tree\n",
    "\n",
    "# solution #2: \n",
    "# --> no good -> check the code, we can use an important definition in BST: \n",
    "# the lower and upper bound of a node -> a very cool idea: \n",
    "# the intuition is that transfer the global min and max to individuals' associated min and max!\n",
    "# learn the intuition in the design, and expland this mindset to future unknown problems\n",
    "\n",
    "# for the definition\n",
    "# In a binary search tree, the lower bound and upper bound of a node refer to the smallest and largest possible values that can be stored in the subtree rooted at that node, respectively. More formally, let's define the BST property: for any node in a binary search tree, all values in its left subtree are less than its value, and all values in its right subtree are greater than its value. Given this property, we can define the lower bound and upper bound of a node as follows: The lower bound of a node is the maximum value that can be stored in its left subtree. That is, it is the value of the rightmost node in the left subtree, if it exists. If the left subtree is empty, then the lower bound is -infinity. The upper bound of a node is the minimum value that can be stored in its right subtree. That is, it is the value of the leftmost node in the right subtree, if it exists. If the right subtree is empty, then the upper bound is +infinity. Knowing the lower and upper bounds of a node can be useful in various operations on a binary search tree, such as searching for a value, inserting a new value, or deleting a value.\n"
   ]
  },
  {
   "cell_type": "code",
   "execution_count": null,
   "metadata": {},
   "outputs": [],
   "source": [
    "from typing import Optional\n",
    "\n",
    "# Definition for a binary tree node.\n",
    "class TreeNode:\n",
    "    def __init__(self, val=0, left=None, right=None):\n",
    "        self.val = val\n",
    "        self.left = left\n",
    "        self.right = right\n",
    "class Solution:\n",
    "    def isValidBST(self, root: Optional[TreeNode]) -> bool:\n",
    "\n",
    "        def preorder(node):\n",
    "            res = True # by default, it is BST\n",
    "            if node.left != None:\n",
    "                if node.left.val < node.val:\n",
    "                    res = preorder(node.left)\n",
    "                else:\n",
    "                    return False\n",
    "            # no process on the current node\n",
    "            if node.right != None:\n",
    "                if node.right.val > node.val:\n",
    "                    res = preorder(node.right)\n",
    "                else:\n",
    "                    return False\n",
    "\n",
    "            return res\n",
    "        \n",
    "        # cornder case #1) only one node\n",
    "        return preorder(root)"
   ]
  },
  {
   "cell_type": "code",
   "execution_count": null,
   "metadata": {},
   "outputs": [],
   "source": [
    "# solution #2: \n",
    "# keep the lower and upper bound as the tracker but, they are not the \n",
    "# exact value of the lower and upper bound of the node;\n",
    "# for the tracking purpose only.\n",
    "# we follow the predefined rule to construct the lower and upper bound of a node\n",
    "# then move forward to see how it goes and how it is obeyed in the traversal of BST\n",
    "# the local rule should still hold in the traversal and set it properly."
   ]
  },
  {
   "cell_type": "code",
   "execution_count": null,
   "metadata": {},
   "outputs": [],
   "source": [
    "class Solution:\n",
    "    def isValidBST(self, root: Optional[TreeNode]) -> bool:\n",
    "\n",
    "        stack = [(root, float('-inf'), float('inf'))]\n",
    "\n",
    "        while len(stack) > 0:\n",
    "            node, lower, upper = stack.pop()\n",
    "            if node.left != None:\n",
    "                if node.left.val >= node.val or node.left.val <= lower:\n",
    "                    return False\n",
    "                else:\n",
    "                    stack.append((node.left, lower, node.val))\n",
    "            if node.right != None:\n",
    "                if node.right.val <= node.val or node.right.val >= upper:\n",
    "                    return False\n",
    "                else:\n",
    "                    stack.append((node.right, node.val, upper))\n",
    "        return True"
   ]
  }
 ],
 "metadata": {
  "kernelspec": {
   "display_name": "lc",
   "language": "python",
   "name": "python3"
  },
  "language_info": {
   "name": "python",
   "version": "3.9.16"
  },
  "orig_nbformat": 4,
  "vscode": {
   "interpreter": {
    "hash": "40f890ef67b726604f2fb72e1fb3480e9e9c2a7a009421d7dfa44ec2b0cc787c"
   }
  }
 },
 "nbformat": 4,
 "nbformat_minor": 2
}
