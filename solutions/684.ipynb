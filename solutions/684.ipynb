{
 "cells": [
  {
   "cell_type": "code",
   "execution_count": 7,
   "metadata": {},
   "outputs": [],
   "source": [
    "from typing import List"
   ]
  },
  {
   "cell_type": "code",
   "execution_count": 2,
   "metadata": {},
   "outputs": [
    {
     "ename": "SyntaxError",
     "evalue": "invalid syntax (3377242032.py, line 2)",
     "output_type": "error",
     "traceback": [
      "\u001b[0;36m  Cell \u001b[0;32mIn[2], line 2\u001b[0;36m\u001b[0m\n\u001b[0;31m    if 1 is in a:\u001b[0m\n\u001b[0m            ^\u001b[0m\n\u001b[0;31mSyntaxError\u001b[0m\u001b[0;31m:\u001b[0m invalid syntax\n"
     ]
    }
   ],
   "source": [
    "# python is -> avoid this keyword, like if a is in--> not good\n",
    "a = [1, 2, 3]\n",
    "if 1 in a:\n",
    "    print('yes')"
   ]
  },
  {
   "cell_type": "code",
   "execution_count": null,
   "metadata": {},
   "outputs": [],
   "source": [
    "# solution 1: when you do not have the thought, think about how you would\n",
    "# resolve it from the human perspective, what is the approach seeing from a human\n",
    "# then program this solution in a code snippet; \n",
    "# I think, we are given an edge, do the DFS search, return the result and judge\n",
    "# then program this thought:\n",
    "# 2) in the graph creation, defaultdict is better for the adjacentList graph creation\n",
    "# 3) revisit the DFS search: what we track: 1) visited; 2) visited_sequence"
   ]
  },
  {
   "cell_type": "code",
   "execution_count": null,
   "metadata": {},
   "outputs": [],
   "source": [
    "class Solution:\n",
    "    def findRedundantConnection(self, edges: List[List[int]]) -> List[int]:\n",
    "        \n",
    "        from collections import defaultdict\n",
    "        graph = defaultdict(list)\n",
    "        # graph = {}\n",
    "        duplicated_edge = []\n",
    "\n",
    "        max_index = 0\n",
    "        for src, tgt in edges:\n",
    "            if src > max_index:\n",
    "                max_index = src\n",
    "            if tgt > max_index:\n",
    "                max_index = tgt\n",
    "        \n",
    "        for src, tgt in edges:\n",
    "            # as the global variable in the traversal\n",
    "            visited = [False] * (max_index+1) # error1 max(graph.keys()+1); #2: tgt can be larger \n",
    "            visited_sequence = []\n",
    "\n",
    "            def dfs(node, graph):\n",
    "                visited[node] = True\n",
    "                visited_sequence.append(node)\n",
    "                # error #3: KeyError: 2---> some neighbor does not exist\n",
    "                for neighbor in graph[node]:\n",
    "                    if visited[neighbor] == False:\n",
    "                        dfs(neighbor, graph)\n",
    "            \n",
    "            dfs(src, graph)\n",
    "            if tgt in visited_sequence:\n",
    "                duplicated_edge.append([src, tgt])\n",
    "            graph[src].append(tgt)\n",
    "            graph[tgt].append(src)             \n",
    "        \n",
    "        return duplicated_edge[-1]"
   ]
  },
  {
   "cell_type": "code",
   "execution_count": null,
   "metadata": {},
   "outputs": [],
   "source": []
  },
  {
   "cell_type": "code",
   "execution_count": null,
   "metadata": {},
   "outputs": [],
   "source": [
    "# the failed solution:\n",
    "# error1: index starts from 1;\n",
    "# error2: if we just use the graph.keys() max to create the adjacentList, limited, \n",
    "# the target node can still be very with a higher index value\n",
    "# error3: for the undirected graph, even if I just traverse from the low to high,\n",
    "# some errors can still happen, e.g., [1, 2], [1, 3] -> then, we traverse [2, 3]\n",
    "# error4: "
   ]
  },
  {
   "cell_type": "code",
   "execution_count": null,
   "metadata": {},
   "outputs": [],
   "source": [
    "class Solution:\n",
    "    def findRedundantConnection(self, edges: List[List[int]]) -> List[int]:\n",
    "        \n",
    "        from collections import defaultdict\n",
    "        graph = defaultdict(list)\n",
    "        # graph = {}\n",
    "        duplicated_edge = []\n",
    "\n",
    "        max_index = 0\n",
    "        for src, tgt in edges:\n",
    "            if src > max_index:\n",
    "                max_index = src\n",
    "            if tgt > max_index:\n",
    "                max_index = tgt\n",
    "        \n",
    "        for src, tgt in edges:\n",
    "            # as the global variable in the traversal\n",
    "            visited = [False] * max_index # error1 max(graph.keys()+1); #2: tgt can be larger \n",
    "            visited_sequence = []\n",
    "\n",
    "            def dfs(node, graph):\n",
    "                visited[node] = True\n",
    "                visited_sequence.append(node)\n",
    "                # error #3: KeyError: 2---> some neighbor does not exist\n",
    "                for neighbor in graph[node]:\n",
    "                    if visited[neighbor] == False:\n",
    "                        dfs(neighbor, graph)\n",
    "            \n",
    "            dfs(src, graph)\n",
    "            if tgt in visited_sequence:\n",
    "                duplicated_edge.append([src, tgt])\n",
    "            graph[src].append(tgt)\n",
    "            graph[tgt].append(src)             \n",
    "        \n",
    "        return duplicated_edge[-1]"
   ]
  }
 ],
 "metadata": {
  "kernelspec": {
   "display_name": "lc",
   "language": "python",
   "name": "python3"
  },
  "language_info": {
   "codemirror_mode": {
    "name": "ipython",
    "version": 3
   },
   "file_extension": ".py",
   "mimetype": "text/x-python",
   "name": "python",
   "nbconvert_exporter": "python",
   "pygments_lexer": "ipython3",
   "version": "3.9.16"
  },
  "orig_nbformat": 4,
  "vscode": {
   "interpreter": {
    "hash": "40f890ef67b726604f2fb72e1fb3480e9e9c2a7a009421d7dfa44ec2b0cc787c"
   }
  }
 },
 "nbformat": 4,
 "nbformat_minor": 2
}
