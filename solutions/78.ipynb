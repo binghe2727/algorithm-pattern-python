{
 "cells": [
  {
   "attachments": {},
   "cell_type": "markdown",
   "metadata": {},
   "source": [
    "# solution 1 on Feb 12 2023:\n",
    "1. sort the array for easy manipulation\n",
    "2. index level process\n",
    "3. analyze the problem: find the relationship between length-n and length-n+1, then, use it in the for loop\n",
    "4. the multi-level for loop processing: take care and be familar"
   ]
  },
  {
   "cell_type": "code",
   "execution_count": 2,
   "metadata": {},
   "outputs": [],
   "source": [
    "class Solution1:\n",
    "    # def subsets(self, nums: List[int]) -> List[List[int]]:\n",
    "    def subsets(self, nums):\n",
    "\n",
    "        n = len(nums)\n",
    "\n",
    "        if n == 1:\n",
    "            return [[], nums]\n",
    "\n",
    "        # we use index for the presentation first\n",
    "        res = []\n",
    "        res.append([])\n",
    "        prev = [ [index] for index in range(n)] # from index: range(n) to nums \n",
    "\n",
    "        res += prev\n",
    "\n",
    "        for i in range(2, n+1):\n",
    "            \n",
    "            next_i_all = []\n",
    "            for j in prev:\n",
    "                # we only add the forward index\n",
    "                next_j_all = []\n",
    "                for k in range(j[-1]+1, n):\n",
    "                    next_j = j + [k] # change from [k] -> nums[k]\n",
    "                    next_j_all.append(next_j)\n",
    "                next_i_all += next_j_all\n",
    "            res += next_i_all\n",
    "            prev = next_i_all\n",
    "        \n",
    "        # transfer back from index to value\n",
    "\n",
    "        res_final = []\n",
    "        for one_list in res:\n",
    "            if len(one_list) == 0:\n",
    "                res_final.append(one_list)\n",
    "            else:\n",
    "                res_final.append([ nums[index] for index in one_list])\n",
    "        return res_final"
   ]
  },
  {
   "attachments": {},
   "cell_type": "markdown",
   "metadata": {},
   "source": [
    "# soltuion 2:\n",
    "\n",
    "1. the recursive approach: -> After analyzing, we find when we generate the results, we actually recursively traverse some paths with 1, then without 1;\n",
    "2. feels like DFS search, but, we do not need to construct the graph. We use the array as the neighborhood of each list (especially, the unvisited list from the latter index)"
   ]
  },
  {
   "cell_type": "code",
   "execution_count": null,
   "metadata": {},
   "outputs": [],
   "source": [
    "class Solution:\n",
    "    # def subsets(self, nums: List[int]) -> List[List[int]]:\n",
    "    def subsets(self, nums):\n",
    "        res = []\n",
    "        path = []\n",
    "        # # physical meaning: we consider the path before traversing the node\n",
    "        # that is path = []\n",
    "        res.append(path)\n",
    "\n",
    "        # a DFS solution with G, index, result, the path -> a common parameter set\n",
    "        def dfs(nums, index, res, path):\n",
    "            res.append(path + [nums[index]])\n",
    "            # the unvisited neighbor is from index+1 -> a cool idea design\n",
    "            for neighbor in range(index+1, len(nums)):\n",
    "                dfs(nums, neighbor, res, path + [nums[index]])\n",
    "        \n",
    "        # At the first attempt, I do not include the foor loop\n",
    "        # After debugging and thinking, I find the conventional DFS is only for one node,\n",
    "        # we should traverse the whole node set! \n",
    "        for index in range(len(nums)):\n",
    "            # # physical meaning: we consider the path before traversing the node\n",
    "            # that is path = []\n",
    "            dfs(nums, index, res, path)\n",
    "        \n",
    "        return res"
   ]
  }
 ],
 "metadata": {
  "kernelspec": {
   "display_name": "base",
   "language": "python",
   "name": "python3"
  },
  "language_info": {
   "codemirror_mode": {
    "name": "ipython",
    "version": 3
   },
   "file_extension": ".py",
   "mimetype": "text/x-python",
   "name": "python",
   "nbconvert_exporter": "python",
   "pygments_lexer": "ipython3",
   "version": "3.8.5 (default, Sep  4 2020, 02:22:02) \n[Clang 10.0.0 ]"
  },
  "orig_nbformat": 4,
  "vscode": {
   "interpreter": {
    "hash": "7f59bae883a455fedcaa2c21324b622883ba3e9f6b88b455d79a918a5d986103"
   }
  }
 },
 "nbformat": 4,
 "nbformat_minor": 2
}
