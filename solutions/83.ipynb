{
 "cells": [
  {
   "cell_type": "code",
   "execution_count": null,
   "metadata": {},
   "outputs": [],
   "source": [
    "# TODO: the deep and shallow copy? by default,\n",
    "# let's use shallow copy in your mind\n",
    "# unless the list of list, and array setup"
   ]
  },
  {
   "cell_type": "code",
   "execution_count": null,
   "metadata": {},
   "outputs": [],
   "source": [
    "# my thinking thought:\n",
    "# solution 1: create a new linked list:\n",
    "# some elements of a linked list: 1) I forgot the head node: just \n",
    "# use the new_current for representation, which is not correct; \n",
    "# two elements in a linked list: 1) the head node; 2) the current node\n",
    "# from my error 1 and error 2 you can see: i overthink to provide\n",
    "# the next value: ---> whenever you want to assign value: think carefully\n",
    "# when we have .next for the assignment, we should be careful!\n",
    "\n",
    "# for the manipulation of the linked list, the module is \n",
    "# we use current.next for re-alignment, current = current.next for traversal"
   ]
  },
  {
   "cell_type": "code",
   "execution_count": null,
   "metadata": {},
   "outputs": [],
   "source": [
    "# Definition for singly-linked list.\n",
    "from typing import Optional\n",
    "\n",
    "class ListNode:\n",
    "    def __init__(self, val=0, next=None):\n",
    "        self.val = val\n",
    "        self.next = next\n",
    "class Solution:\n",
    "    def deleteDuplicates(self, head: Optional[ListNode]) -> Optional[ListNode]:\n",
    "        \n",
    "        if head == None:\n",
    "            return head\n",
    "\n",
    "        current = head # do we deep-copy?\n",
    "        new_head = ListNode(head.val, None) # error 2: head.next\n",
    "        current_new = new_head\n",
    "        while current != None:\n",
    "            if current.val != current_new.val:\n",
    "                current_new.next = ListNode(current.val, None) # error 1: current.next\n",
    "                current_new = current_new.next\n",
    "            current = current.next\n",
    "        return new_head"
   ]
  },
  {
   "cell_type": "code",
   "execution_count": null,
   "metadata": {},
   "outputs": [],
   "source": [
    "# solution 2: \n",
    "# we can utilize the while loop for the same value judgement\n",
    "# double while in the current design for better illustration"
   ]
  },
  {
   "cell_type": "code",
   "execution_count": null,
   "metadata": {},
   "outputs": [],
   "source": [
    "class Solution:\n",
    "    def deleteDuplicates(self, head: Optional[ListNode]) -> Optional[ListNode]:\n",
    "        \n",
    "        current = head\n",
    "\n",
    "        while current != None:\n",
    "            while current.next != None and current.val == current.next.val:\n",
    "                current.next = current.next.next\n",
    "            current = current.next\n",
    "        return head"
   ]
  },
  {
   "cell_type": "code",
   "execution_count": 1,
   "metadata": {},
   "outputs": [],
   "source": [
    "# the copied solution 3 from the repo:\n",
    "# more systematically in the while loop\n",
    "# if it is the same, we update the next pointer. Otherwise, we traverse\n",
    "# to the next pointer\n",
    "\n",
    "# learn from the this design, and set it properly"
   ]
  },
  {
   "cell_type": "code",
   "execution_count": null,
   "metadata": {},
   "outputs": [],
   "source": [
    "class Solution:\n",
    "    def deleteDuplicates(self, head: ListNode) -> ListNode:\n",
    "        \n",
    "        if head is None:\n",
    "            return head\n",
    "        \n",
    "        current = head\n",
    "        \n",
    "        while current.next is not None:\n",
    "            if current.next.val == current.val:\n",
    "                current.next = current.next.next\n",
    "            else:\n",
    "                current = current.next\n",
    "        \n",
    "        return head"
   ]
  }
 ],
 "metadata": {
  "kernelspec": {
   "display_name": "lc",
   "language": "python",
   "name": "python3"
  },
  "language_info": {
   "codemirror_mode": {
    "name": "ipython",
    "version": 3
   },
   "file_extension": ".py",
   "mimetype": "text/x-python",
   "name": "python",
   "nbconvert_exporter": "python",
   "pygments_lexer": "ipython3",
   "version": "3.9.16"
  },
  "orig_nbformat": 4,
  "vscode": {
   "interpreter": {
    "hash": "40f890ef67b726604f2fb72e1fb3480e9e9c2a7a009421d7dfa44ec2b0cc787c"
   }
  }
 },
 "nbformat": 4,
 "nbformat_minor": 2
}
