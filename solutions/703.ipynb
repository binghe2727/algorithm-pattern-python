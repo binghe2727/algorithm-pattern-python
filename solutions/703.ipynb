{
 "cells": [
  {
   "cell_type": "code",
   "execution_count": null,
   "metadata": {},
   "outputs": [],
   "source": [
    "# a) basic syntax of heapq: 1) import heapq; 2) heapq.heappush(pq, element); 3) heapq.pop(pq)\n",
    "# b) the corner cases: what if the input list is [] -> we carete len(self.pq) < self.k\n",
    "# c) think carefully about the process: 1) Given k-1 list, we add k-th element, it does not mean\n",
    "#    the added one is k-th large, we should heapq.heappush and heappop again "
   ]
  },
  {
   "cell_type": "code",
   "execution_count": null,
   "metadata": {},
   "outputs": [],
   "source": [
    "# code refinement from the referred code\n",
    "# 1) heapq.heappushpop(self.min_heap, val) -> the function heapq.heappushpop can update the list with one element\n",
    "# 2) to find the k-th min in a heap, we can directly query self.heap[0] for simplicity! -> improve your coding level."
   ]
  },
  {
   "cell_type": "code",
   "execution_count": 4,
   "metadata": {},
   "outputs": [],
   "source": [
    "from typing import *\n",
    "import heapq\n",
    "\n",
    "class KthLargest:\n",
    "    def __init__(self, k: int, nums: List[int]):\n",
    "        \n",
    "        pq = []\n",
    "        for i in range(len(nums)):\n",
    "            if i < k:\n",
    "                heapq.heappush(pq, nums[i])\n",
    "            else:\n",
    "                k_th_element = heapq.heappop(pq)\n",
    "                if k_th_element >= nums[i]:\n",
    "                    heapq.heappush(pq, k_th_element)\n",
    "                else:\n",
    "                    heapq.heappush(pq, nums[i])\n",
    "        self.pq = pq\n",
    "        self.k = k\n",
    "\n",
    "    def add(self, val: int) -> int:\n",
    "        # error 1: we should use < rather than <=\n",
    "        # error 2: we cannot directly return val, we should compare\n",
    "        if len(self.pq) < self.k:\n",
    "            heapq.heappush(self.pq, val)\n",
    "            if len(self.pq) == self.k:\n",
    "                k_th_element = heapq.heappop(self.pq)\n",
    "                heapq.heappush(self.pq, k_th_element)\n",
    "                return k_th_element\n",
    "            else:\n",
    "                return val\n",
    "        else:\n",
    "            k_th_element = heapq.heappop(self.pq)\n",
    "            if k_th_element >= val:\n",
    "                heapq.heappush(self.pq, k_th_element)\n",
    "                return k_th_element\n",
    "            else:\n",
    "                heapq.heappush(self.pq, val)\n",
    "                k_th_element = heapq.heappop(self.pq)\n",
    "                heapq.heappush(self.pq, k_th_element)\n",
    "                return k_th_element\n",
    "\n",
    "\n",
    "# Your KthLargest object will be instantiated and called as such:\n",
    "# obj = KthLargest(k, nums)\n",
    "# param_1 = obj.add(val)"
   ]
  },
  {
   "cell_type": "code",
   "execution_count": null,
   "metadata": {},
   "outputs": [],
   "source": [
    "# the referred solution\n",
    "\n",
    "class KthLargest:\n",
    "\n",
    "    def __init__(self, k: int, nums: List[int]):\n",
    "        self.K = k\n",
    "        self.min_heap = []\n",
    "        for num in nums:\n",
    "            if len(self.min_heap) < self.K:\n",
    "                heapq.heappush(self.min_heap, num)\n",
    "            elif num > self.min_heap[0]:\n",
    "                heapq.heappushpop(self.min_heap, num)\n",
    "\n",
    "    def add(self, val: int) -> int:\n",
    "        if len(self.min_heap) < self.K:\n",
    "            heapq.heappush(self.min_heap, val)\n",
    "        elif val > self.min_heap[0]:\n",
    "            heapq.heappushpop(self.min_heap, val)\n",
    "\n",
    "        return self.min_heap[0]"
   ]
  },
  {
   "cell_type": "code",
   "execution_count": null,
   "metadata": {},
   "outputs": [],
   "source": []
  }
 ],
 "metadata": {
  "kernelspec": {
   "display_name": "lc",
   "language": "python",
   "name": "python3"
  },
  "language_info": {
   "codemirror_mode": {
    "name": "ipython",
    "version": 3
   },
   "file_extension": ".py",
   "mimetype": "text/x-python",
   "name": "python",
   "nbconvert_exporter": "python",
   "pygments_lexer": "ipython3",
   "version": "3.9.16"
  },
  "orig_nbformat": 4,
  "vscode": {
   "interpreter": {
    "hash": "40f890ef67b726604f2fb72e1fb3480e9e9c2a7a009421d7dfa44ec2b0cc787c"
   }
  }
 },
 "nbformat": 4,
 "nbformat_minor": 2
}
